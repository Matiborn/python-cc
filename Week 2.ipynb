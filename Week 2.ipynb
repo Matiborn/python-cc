{
 "cells": [
  {
   "cell_type": "markdown",
   "metadata": {},
   "source": [
    "# Python Crash Course - Week 2"
   ]
  },
  {
   "cell_type": "code",
   "execution_count": 4,
   "metadata": {},
   "outputs": [
    {
     "name": "stdout",
     "output_type": "stream",
     "text": [
      "The average is 20839.2\n"
     ]
    }
   ],
   "source": [
    "sum = 2048 + 4357 + 97658 + 125 + 8\n",
    "amount = 5\n",
    "average = sum/amount\n",
    "print(\"The average is \" + str(average))"
   ]
  },
  {
   "cell_type": "code",
   "execution_count": 5,
   "metadata": {},
   "outputs": [
    {
     "name": "stdout",
     "output_type": "stream",
     "text": [
      "Each person needs to pay: 27.186\n"
     ]
    }
   ],
   "source": [
    "bill = 47.28\n",
    "tip = bill*0.15\n",
    "total = bill+tip\n",
    "share = total/2\n",
    "print (\"Each person needs to pay: \" + str(share) )"
   ]
  },
  {
   "cell_type": "code",
   "execution_count": 6,
   "metadata": {},
   "outputs": [],
   "source": [
    "def Total_seconds(hours,minutes,seconds):\n",
    "    print(hours*3600 + minutes*60 + seconds)"
   ]
  },
  {
   "cell_type": "code",
   "execution_count": 7,
   "metadata": {},
   "outputs": [
    {
     "name": "stdout",
     "output_type": "stream",
     "text": [
      "9817\n"
     ]
    }
   ],
   "source": [
    "Total_seconds(2,43,37)"
   ]
  },
  {
   "cell_type": "code",
   "execution_count": 10,
   "metadata": {},
   "outputs": [],
   "source": [
    "def area_triangle(base,height):\n",
    "    return base*height/2"
   ]
  },
  {
   "cell_type": "code",
   "execution_count": 11,
   "metadata": {},
   "outputs": [],
   "source": [
    "Area1 = area_triangle(3,4)\n",
    "Area2 = area_triangle(6,2)"
   ]
  },
  {
   "cell_type": "code",
   "execution_count": 13,
   "metadata": {},
   "outputs": [
    {
     "name": "stdout",
     "output_type": "stream",
     "text": [
      "12.0\n"
     ]
    }
   ],
   "source": [
    "sum = Area1+Area2\n",
    "print(sum)"
   ]
  },
  {
   "cell_type": "code",
   "execution_count": 17,
   "metadata": {},
   "outputs": [],
   "source": [
    "def print_monthly_expense(month,hours):\n",
    "    cost=hours*0.65\n",
    "    print(\"In \" + month + \" we spent: \" + str(cost))"
   ]
  },
  {
   "cell_type": "code",
   "execution_count": 18,
   "metadata": {},
   "outputs": [
    {
     "name": "stdout",
     "output_type": "stream",
     "text": [
      "In July we spent: 157.95000000000002\n"
     ]
    }
   ],
   "source": [
    "print_monthly_expense(\"July\",243)"
   ]
  },
  {
   "cell_type": "code",
   "execution_count": 21,
   "metadata": {},
   "outputs": [],
   "source": [
    "def order_numbers(num1,num2):\n",
    "    if num2 > num1 :\n",
    "        return num1,num2\n",
    "    else:\n",
    "        return num2,num1"
   ]
  },
  {
   "cell_type": "code",
   "execution_count": 22,
   "metadata": {},
   "outputs": [
    {
     "data": {
      "text/plain": [
       "(28, 78)"
      ]
     },
     "execution_count": 22,
     "metadata": {},
     "output_type": "execute_result"
    }
   ],
   "source": [
    "order_numbers(78,28)"
   ]
  },
  {
   "cell_type": "code",
   "execution_count": 33,
   "metadata": {},
   "outputs": [],
   "source": [
    "def is_even(num):\n",
    " if num % 2 == 0 :\n",
    "        return True\n",
    " \n",
    " return False"
   ]
  },
  {
   "cell_type": "code",
   "execution_count": 35,
   "metadata": {},
   "outputs": [
    {
     "data": {
      "text/plain": [
       "False"
      ]
     },
     "execution_count": 35,
     "metadata": {},
     "output_type": "execute_result"
    }
   ],
   "source": [
    "is_even(3)"
   ]
  },
  {
   "cell_type": "code",
   "execution_count": 39,
   "metadata": {},
   "outputs": [],
   "source": [
    "def colour_translator(colour):\n",
    " if colour == \"red\":\n",
    "    hex_colour = \"#ff0000\"\n",
    " elif colour == \"green\":\n",
    "    hex_colour = \"#00ff00\"\n",
    " elif colour == \"blue\":\n",
    "    hex_colour = \"#0000ff\"\n",
    " else:\n",
    "    hex_colour = \"Unknown\"\n",
    " return hex_colour"
   ]
  },
  {
   "cell_type": "code",
   "execution_count": 41,
   "metadata": {},
   "outputs": [
    {
     "data": {
      "text/plain": [
       "'#0000ff'"
      ]
     },
     "execution_count": 41,
     "metadata": {},
     "output_type": "execute_result"
    }
   ],
   "source": [
    "colour_translator(\"blue\")"
   ]
  },
  {
   "cell_type": "code",
   "execution_count": 45,
   "metadata": {},
   "outputs": [],
   "source": [
    "def examgrade(score):\n",
    "    if score>95:\n",
    "        grade = \"Top Score\"\n",
    "    elif score>=60:\n",
    "        grade = \"Pass\"\n",
    "    else:\n",
    "        grade = \"Fail\"\n",
    "    return grade"
   ]
  },
  {
   "cell_type": "code",
   "execution_count": 46,
   "metadata": {},
   "outputs": [
    {
     "name": "stdout",
     "output_type": "stream",
     "text": [
      "Pass\n"
     ]
    }
   ],
   "source": [
    "print(examgrade(60))"
   ]
  },
  {
   "cell_type": "code",
   "execution_count": 47,
   "metadata": {},
   "outputs": [],
   "source": [
    "def format_name(first,last):\n",
    "    if len(first)>0 and len(last)>0:\n",
    "        string= \"Name \" + last + \", \" + first\n",
    "    elif len(first)>0 or len(last)>0:\n",
    "        string= \"Name \" + last + first\n",
    "    else:\n",
    "        string = \"\"\n",
    "    return string"
   ]
  },
  {
   "cell_type": "code",
   "execution_count": 49,
   "metadata": {},
   "outputs": [
    {
     "data": {
      "text/plain": [
       "'Name Tod, Toddy'"
      ]
     },
     "execution_count": 49,
     "metadata": {},
     "output_type": "execute_result"
    }
   ],
   "source": [
    "format_name(\"Toddy\",\"Tod\")"
   ]
  },
  {
   "cell_type": "code",
   "execution_count": 52,
   "metadata": {},
   "outputs": [],
   "source": [
    "def fraction_part(num,dom):\n",
    " if dom == 0:\n",
    "    return 0\n",
    " else:\n",
    "    ans = num / dom - num//dom\n",
    "    return ans"
   ]
  },
  {
   "cell_type": "code",
   "execution_count": 53,
   "metadata": {},
   "outputs": [
    {
     "name": "stdout",
     "output_type": "stream",
     "text": [
      "0.875\n"
     ]
    }
   ],
   "source": [
    "print(fraction_part(7,8))"
   ]
  },
  {
   "cell_type": "code",
   "execution_count": null,
   "metadata": {},
   "outputs": [],
   "source": []
  }
 ],
 "metadata": {
  "kernelspec": {
   "display_name": "Python 3",
   "language": "python",
   "name": "python3"
  },
  "language_info": {
   "codemirror_mode": {
    "name": "ipython",
    "version": 3
   },
   "file_extension": ".py",
   "mimetype": "text/x-python",
   "name": "python",
   "nbconvert_exporter": "python",
   "pygments_lexer": "ipython3",
   "version": "3.7.4"
  }
 },
 "nbformat": 4,
 "nbformat_minor": 2
}
