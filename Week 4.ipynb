{
 "cells": [
  {
   "cell_type": "code",
   "execution_count": 3,
   "metadata": {},
   "outputs": [],
   "source": [
    "def double_word(word):\n",
    "    return word*2 + \" \" + str(len(word*2))"
   ]
  },
  {
   "cell_type": "code",
   "execution_count": 5,
   "metadata": {},
   "outputs": [
    {
     "data": {
      "text/plain": [
       "'PineapplePineapple 18'"
      ]
     },
     "execution_count": 5,
     "metadata": {},
     "output_type": "execute_result"
    }
   ],
   "source": [
    "double_word(\"Pineapple\")"
   ]
  },
  {
   "cell_type": "code",
   "execution_count": 6,
   "metadata": {},
   "outputs": [],
   "source": [
    "def first_and_last(message):\n",
    "    if len(message) == 0 or message[0] == message [-1]:\n",
    "        return True\n",
    "    else:\n",
    "        return False"
   ]
  },
  {
   "cell_type": "code",
   "execution_count": 12,
   "metadata": {},
   "outputs": [
    {
     "name": "stdout",
     "output_type": "stream",
     "text": [
      "True\n",
      "False\n",
      "True\n"
     ]
    }
   ],
   "source": [
    "print(first_and_last(\"test\"))\n",
    "print(first_and_last(\"fail\"))\n",
    "print(first_and_last(\"\"))"
   ]
  },
  {
   "cell_type": "code",
   "execution_count": 13,
   "metadata": {},
   "outputs": [],
   "source": [
    "def initials(phrase):\n",
    "    words = phrase.split()\n",
    "    result = \"\"\n",
    "    for word in words:\n",
    "        result += word[0]\n",
    "    return result.upper()"
   ]
  },
  {
   "cell_type": "code",
   "execution_count": 15,
   "metadata": {},
   "outputs": [
    {
     "data": {
      "text/plain": [
       "'USB'"
      ]
     },
     "execution_count": 15,
     "metadata": {},
     "output_type": "execute_result"
    }
   ],
   "source": [
    "initials(\"Universal serial Bus\")"
   ]
  },
  {
   "cell_type": "code",
   "execution_count": 30,
   "metadata": {},
   "outputs": [],
   "source": [
    "def student_grade(name,grade):\n",
    "    return \"{} recived {:.2f}% on the exam\".format(name,grade)"
   ]
  },
  {
   "cell_type": "code",
   "execution_count": 31,
   "metadata": {},
   "outputs": [
    {
     "data": {
      "text/plain": [
       "'Jeff recived 82.33% on the exam'"
      ]
     },
     "execution_count": 31,
     "metadata": {},
     "output_type": "execute_result"
    }
   ],
   "source": [
    "student_grade(\"Jeff\",82.33333)"
   ]
  },
  {
   "cell_type": "code",
   "execution_count": 71,
   "metadata": {},
   "outputs": [],
   "source": [
    "def is_palindrome(input_string):\n",
    "    new_string = input_string.replace(\" \", \"\")\n",
    "    rev_string = new_string[::-1]\n",
    "    \n",
    "    if new_string.upper() == rev_string.upper():\n",
    "        return True\n",
    "    else:\n",
    "        return False"
   ]
  },
  {
   "cell_type": "code",
   "execution_count": 92,
   "metadata": {},
   "outputs": [
    {
     "name": "stdout",
     "output_type": "stream",
     "text": [
      "True\n",
      "False\n",
      "True\n"
     ]
    }
   ],
   "source": [
    "print(is_palindrome(\"Rats live on no evil star\"))\n",
    "print(is_palindrome(\"Not really\"))\n",
    "print(is_palindrome(\"Never odd or even\"))"
   ]
  },
  {
   "cell_type": "code",
   "execution_count": 89,
   "metadata": {},
   "outputs": [],
   "source": [
    "def skip_elements(elements):\n",
    "    n = len(elements)\n",
    "    x = 1\n",
    "    while x < n:\n",
    "        elements.pop(x)\n",
    "        x += 1\n",
    "        n = len(elements)\n",
    "    return elements"
   ]
  },
  {
   "cell_type": "code",
   "execution_count": 91,
   "metadata": {},
   "outputs": [
    {
     "data": {
      "text/plain": [
       "['a', 'c', 'e']"
      ]
     },
     "execution_count": 91,
     "metadata": {},
     "output_type": "execute_result"
    }
   ],
   "source": [
    "skip_elements([\"a\",\"b\",\"c\",\"d\",\"e\"])"
   ]
  },
  {
   "cell_type": "code",
   "execution_count": 178,
   "metadata": {},
   "outputs": [],
   "source": [
    "def skip_elements2(elements):\n",
    "    output = []\n",
    "    for n in enumerate(elements):\n",
    "        if n[0] % 2 == 0:\n",
    "            output.append(n[1])\n",
    "    return output    "
   ]
  },
  {
   "cell_type": "code",
   "execution_count": 179,
   "metadata": {},
   "outputs": [
    {
     "data": {
      "text/plain": [
       "['a', 'c', 'e', 'g']"
      ]
     },
     "execution_count": 179,
     "metadata": {},
     "output_type": "execute_result"
    }
   ],
   "source": [
    "skip_elements2([\"a\",\"b\",\"c\",\"d\",\"e\",\"f\",\"g\"])"
   ]
  },
  {
   "cell_type": "code",
   "execution_count": 192,
   "metadata": {},
   "outputs": [],
   "source": [
    "def full_emails(people):\n",
    "    result = []\n",
    "    for email,name in people:\n",
    "        result.append(\"{} <{}>\".format(name, email))\n",
    "    return result"
   ]
  },
  {
   "cell_type": "code",
   "execution_count": 196,
   "metadata": {},
   "outputs": [
    {
     "data": {
      "text/plain": [
       "['John Doe <John@example.com>', 'Jane Doe <Jane@example.com>']"
      ]
     },
     "execution_count": 196,
     "metadata": {},
     "output_type": "execute_result"
    }
   ],
   "source": [
    "full_emails([(\"John@example.com\",\"John Doe\"),(\"Jane@example.com\",\"Jane Doe\")])"
   ]
  },
  {
   "cell_type": "code",
   "execution_count": 201,
   "metadata": {},
   "outputs": [
    {
     "name": "stdout",
     "output_type": "stream",
     "text": [
      "[7, 14, 21, 28, 35, 42, 49, 56, 63, 70]\n"
     ]
    }
   ],
   "source": [
    "multiples = [ x * 7 for x in range(1,11)]\n",
    "print(multiples)"
   ]
  },
  {
   "cell_type": "code",
   "execution_count": 199,
   "metadata": {},
   "outputs": [],
   "source": [
    "def skip_elements3(elements):\n",
    "    return [x for element, x in enumerate(elements) if element % 2 == 0 ]"
   ]
  },
  {
   "cell_type": "code",
   "execution_count": 202,
   "metadata": {},
   "outputs": [
    {
     "data": {
      "text/plain": [
       "['a', 'c', 'e', 'g', 'i']"
      ]
     },
     "execution_count": 202,
     "metadata": {},
     "output_type": "execute_result"
    }
   ],
   "source": [
    "skip_elements3([\"a\",\"b\",\"c\",\"d\",\"e\",\"f\",\"g\",\"h\",\"i\"])"
   ]
  },
  {
   "cell_type": "code",
   "execution_count": 207,
   "metadata": {},
   "outputs": [
    {
     "name": "stdout",
     "output_type": "stream",
     "text": [
      "[('program.c', 'program.c'), ('studio.hpp', 'studio.h'), ('sample.hpp', 'sample.h'), ('a.out', 'a.out'), ('math.hpp', 'math.h'), ('hpp.out', 'hpp.out')]\n"
     ]
    }
   ],
   "source": [
    "filenames = [\"program.c\",\"studio.hpp\",\"sample.hpp\",\"a.out\",\"math.hpp\",\"hpp.out\"]\n",
    "newfilenames = [ (x,x.replace(\".hpp\",\".h\")) for x in filenames]\n",
    "\n",
    "print(newfilenames)"
   ]
  },
  {
   "cell_type": "code",
   "execution_count": 233,
   "metadata": {},
   "outputs": [
    {
     "name": "stdout",
     "output_type": "stream",
     "text": [
      "rwxr-xr-x\n",
      "rw-r--r--\n",
      "rwxr-x---\n",
      "rw-------\n"
     ]
    }
   ],
   "source": [
    "def octal_to_string(octal):\n",
    "    result = \"\"\n",
    "    value_letters = [(4,\"r\"),(2,\"w\"),(1,\"x\")]\n",
    "    for x in [int(n) for n in str(octal)]:\n",
    "        for value, letter in value_letters:\n",
    "            if x >= value:\n",
    "                result += letter\n",
    "                x -= value\n",
    "            else:\n",
    "                result += \"-\"\n",
    "    return result\n",
    "            \n",
    "            \n",
    "print(octal_to_string(755))\n",
    "print(octal_to_string(644))\n",
    "print(octal_to_string(750))\n",
    "print(octal_to_string(600))"
   ]
  },
  {
   "cell_type": "code",
   "execution_count": null,
   "metadata": {},
   "outputs": [],
   "source": []
  }
 ],
 "metadata": {
  "kernelspec": {
   "display_name": "Python 3",
   "language": "python",
   "name": "python3"
  },
  "language_info": {
   "codemirror_mode": {
    "name": "ipython",
    "version": 3
   },
   "file_extension": ".py",
   "mimetype": "text/x-python",
   "name": "python",
   "nbconvert_exporter": "python",
   "pygments_lexer": "ipython3",
   "version": "3.7.4"
  }
 },
 "nbformat": 4,
 "nbformat_minor": 2
}
