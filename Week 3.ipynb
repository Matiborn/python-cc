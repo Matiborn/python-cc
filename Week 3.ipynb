{
 "cells": [
  {
   "cell_type": "markdown",
   "metadata": {},
   "source": [
    "# Python Crash Course - Week 3"
   ]
  },
  {
   "cell_type": "code",
   "execution_count": 3,
   "metadata": {},
   "outputs": [
    {
     "name": "stdout",
     "output_type": "stream",
     "text": [
      "x = 0\n",
      "x = 1\n",
      "x = 2\n",
      "x = 3\n",
      "x = 4\n",
      "x = 5\n"
     ]
    }
   ],
   "source": [
    "x=0\n",
    "while x<5:\n",
    "    print (\"x = \" + str(x))\n",
    "    x += 1\n",
    "print (\"x = \" + str(x))"
   ]
  },
  {
   "cell_type": "code",
   "execution_count": 13,
   "metadata": {},
   "outputs": [],
   "source": [
    "def smallest_prime_factor(x):\n",
    "    n = 2\n",
    "    while n <= x:\n",
    "        if x % n == 0:\n",
    "            return n\n",
    "        n = n + 1"
   ]
  },
  {
   "cell_type": "code",
   "execution_count": 14,
   "metadata": {},
   "outputs": [
    {
     "name": "stdout",
     "output_type": "stream",
     "text": [
      "2\n"
     ]
    }
   ],
   "source": [
    "print(smallest_prime_factor(12))"
   ]
  },
  {
   "cell_type": "code",
   "execution_count": 15,
   "metadata": {},
   "outputs": [
    {
     "name": "stdout",
     "output_type": "stream",
     "text": [
      "17\n"
     ]
    }
   ],
   "source": [
    "print(smallest_prime_factor(17))"
   ]
  },
  {
   "cell_type": "code",
   "execution_count": 24,
   "metadata": {},
   "outputs": [],
   "source": [
    "def prime_factor(number):\n",
    "    factor = 2\n",
    "    while factor <= number:\n",
    "        if number % factor == 0:\n",
    "            print(factor)\n",
    "            number = number / factor\n",
    "        else:\n",
    "            factor += 1"
   ]
  },
  {
   "cell_type": "code",
   "execution_count": 25,
   "metadata": {},
   "outputs": [
    {
     "name": "stdout",
     "output_type": "stream",
     "text": [
      "2\n",
      "2\n",
      "5\n",
      "5\n"
     ]
    }
   ],
   "source": [
    "prime_factor(100)"
   ]
  },
  {
   "cell_type": "code",
   "execution_count": 48,
   "metadata": {},
   "outputs": [],
   "source": [
    "def is_power_of_two(n):\n",
    "    while n % 2 == 0 and n != 0:\n",
    "        n = n / 2\n",
    "    if n == 1:\n",
    "        return True\n",
    "    return False"
   ]
  },
  {
   "cell_type": "code",
   "execution_count": 49,
   "metadata": {},
   "outputs": [
    {
     "data": {
      "text/plain": [
       "False"
      ]
     },
     "execution_count": 49,
     "metadata": {},
     "output_type": "execute_result"
    }
   ],
   "source": [
    "is_power_of_two(0)"
   ]
  },
  {
   "cell_type": "code",
   "execution_count": 82,
   "metadata": {},
   "outputs": [],
   "source": [
    "def sum_divisors(n):\n",
    "    sum = 0\n",
    "    div = n\n",
    "    while div > 1 and n != 0:\n",
    "        if  n % div == 0:\n",
    "            ans = n / div\n",
    "            sum += ans\n",
    "            div += -1\n",
    "        elif div > 1:\n",
    "            div += -1\n",
    "\n",
    "    return sum"
   ]
  },
  {
   "cell_type": "code",
   "execution_count": 83,
   "metadata": {},
   "outputs": [
    {
     "name": "stdout",
     "output_type": "stream",
     "text": [
      "114.0\n"
     ]
    }
   ],
   "source": [
    "print(sum_divisors(102))"
   ]
  },
  {
   "cell_type": "code",
   "execution_count": 84,
   "metadata": {},
   "outputs": [],
   "source": [
    "def square(n):\n",
    "    return n*n"
   ]
  },
  {
   "cell_type": "code",
   "execution_count": 115,
   "metadata": {},
   "outputs": [],
   "source": [
    "def sum_square(x):\n",
    "    sum = 0\n",
    "    for n in range(x):\n",
    "        sum += square(n)\n",
    "        n +- 1\n",
    "    return sum"
   ]
  },
  {
   "cell_type": "code",
   "execution_count": 116,
   "metadata": {},
   "outputs": [
    {
     "data": {
      "text/plain": [
       "285"
      ]
     },
     "execution_count": 116,
     "metadata": {},
     "output_type": "execute_result"
    }
   ],
   "source": [
    "sum_square(10)"
   ]
  },
  {
   "cell_type": "code",
   "execution_count": 130,
   "metadata": {},
   "outputs": [],
   "source": [
    "def factorial(n):\n",
    "    result = 1\n",
    "    for i in range( 1, n + 1):\n",
    "        result = result*(i)  \n",
    "    return result"
   ]
  },
  {
   "cell_type": "code",
   "execution_count": 141,
   "metadata": {},
   "outputs": [
    {
     "data": {
      "text/plain": [
       "1"
      ]
     },
     "execution_count": 141,
     "metadata": {},
     "output_type": "execute_result"
    }
   ],
   "source": [
    "factorial(0)"
   ]
  },
  {
   "cell_type": "code",
   "execution_count": 140,
   "metadata": {},
   "outputs": [
    {
     "name": "stdout",
     "output_type": "stream",
     "text": [
      "[0|0][0|1][0|2][0|3][0|4][0|5][0|6]\n",
      "[1|1][1|2][1|3][1|4][1|5][1|6]\n",
      "[2|2][2|3][2|4][2|5][2|6]\n",
      "[3|3][3|4][3|5][3|6]\n",
      "[4|4][4|5][4|6]\n",
      "[5|5][5|6]\n",
      "[6|6]\n"
     ]
    }
   ],
   "source": [
    "for left in range(7):\n",
    "    for right in range(left,7):\n",
    "        print(\"[\" + str(left) + \"|\" + str(right) + \"]\", end=(\"\"))\n",
    "    print()"
   ]
  },
  {
   "cell_type": "code",
   "execution_count": 144,
   "metadata": {},
   "outputs": [],
   "source": [
    "def cube(x):\n",
    "    return x**3"
   ]
  },
  {
   "cell_type": "code",
   "execution_count": 147,
   "metadata": {},
   "outputs": [
    {
     "name": "stdout",
     "output_type": "stream",
     "text": [
      "1\n",
      "8\n",
      "27\n",
      "64\n",
      "125\n",
      "216\n",
      "343\n",
      "512\n",
      "729\n",
      "1000\n"
     ]
    }
   ],
   "source": [
    "for n in range(1,11):\n",
    "    print(cube(n))"
   ]
  },
  {
   "cell_type": "code",
   "execution_count": 172,
   "metadata": {},
   "outputs": [],
   "source": [
    "def factorial2(n): #max recursion of 1000 in python\n",
    "    if n < 2:\n",
    "        return 1\n",
    "    result = n * factorial2(n-1)\n",
    "    return result"
   ]
  },
  {
   "cell_type": "code",
   "execution_count": 169,
   "metadata": {},
   "outputs": [
    {
     "data": {
      "text/plain": [
       "24"
      ]
     },
     "execution_count": 169,
     "metadata": {},
     "output_type": "execute_result"
    }
   ],
   "source": [
    "factorial2(4)"
   ]
  },
  {
   "cell_type": "code",
   "execution_count": 170,
   "metadata": {},
   "outputs": [],
   "source": [
    "def sumofpos(n):\n",
    "    if n < 1:\n",
    "        return 0\n",
    "    return n + sumofpos(n - 1)"
   ]
  },
  {
   "cell_type": "code",
   "execution_count": 171,
   "metadata": {},
   "outputs": [
    {
     "data": {
      "text/plain": [
       "15"
      ]
     },
     "execution_count": 171,
     "metadata": {},
     "output_type": "execute_result"
    }
   ],
   "source": [
    "sumofpos(5)"
   ]
  },
  {
   "cell_type": "code",
   "execution_count": 174,
   "metadata": {},
   "outputs": [],
   "source": [
    "def is_power_of(number,base):\n",
    "    number = number / base\n",
    "    if number < base:\n",
    "        if number == 1:\n",
    "            return True\n",
    "        else:\n",
    "            return False\n",
    "    return is_power_of(number,base)"
   ]
  },
  {
   "cell_type": "code",
   "execution_count": 175,
   "metadata": {},
   "outputs": [
    {
     "data": {
      "text/plain": [
       "True"
      ]
     },
     "execution_count": 175,
     "metadata": {},
     "output_type": "execute_result"
    }
   ],
   "source": [
    "is_power_of(64,4)"
   ]
  },
  {
   "cell_type": "code",
   "execution_count": 180,
   "metadata": {
    "scrolled": true
   },
   "outputs": [],
   "source": [
    "def show_letters(word):\n",
    "    for letter in word:\n",
    "        print(letter)"
   ]
  },
  {
   "cell_type": "code",
   "execution_count": 184,
   "metadata": {},
   "outputs": [
    {
     "name": "stdout",
     "output_type": "stream",
     "text": [
      "B\n",
      "O\n",
      "O\n",
      "M\n"
     ]
    }
   ],
   "source": [
    "show_letters(\"BOOM\")"
   ]
  },
  {
   "cell_type": "code",
   "execution_count": 197,
   "metadata": {},
   "outputs": [],
   "source": [
    "def multiplication_table(start,stop):\n",
    "    for x in range(start,stop+1):\n",
    "        for y in range (start,stop+1):\n",
    "            print(str(x*y),end=\" \")\n",
    "        print()"
   ]
  },
  {
   "cell_type": "code",
   "execution_count": 199,
   "metadata": {},
   "outputs": [
    {
     "name": "stdout",
     "output_type": "stream",
     "text": [
      "1 2 3 \n",
      "2 4 6 \n",
      "3 6 9 \n"
     ]
    }
   ],
   "source": [
    "multiplication_table(1,3)"
   ]
  },
  {
   "cell_type": "code",
   "execution_count": 226,
   "metadata": {},
   "outputs": [],
   "source": [
    "def counter(start,stop):\n",
    "    x = start\n",
    "    if start > stop:\n",
    "        return_string = \"Counting down: \"\n",
    "        while x >= stop:\n",
    "            return_string += str(x)\n",
    "            x += -1\n",
    "            if x >= stop:\n",
    "                return_string += \",\"\n",
    "            \n",
    "    else:\n",
    "        return_string = \"Counting Up: \"\n",
    "        while x <= stop:\n",
    "            return_string += str(x)\n",
    "            x += 1\n",
    "            if x <= stop:\n",
    "                return_string += \",\"\n",
    "            \n",
    "    return return_string"
   ]
  },
  {
   "cell_type": "code",
   "execution_count": 227,
   "metadata": {},
   "outputs": [
    {
     "data": {
      "text/plain": [
       "'Counting down: 10,9,8,7,6'"
      ]
     },
     "execution_count": 227,
     "metadata": {},
     "output_type": "execute_result"
    }
   ],
   "source": [
    "counter(10,6)"
   ]
  },
  {
   "cell_type": "code",
   "execution_count": 267,
   "metadata": {},
   "outputs": [],
   "source": [
    "def loop(start, stop, step):\n",
    "    count = start\n",
    "    return_string = \"\"\n",
    "    if step == 0:\n",
    "        step = 1\n",
    "    if start > stop:\n",
    "        step = abs(step) * -1\n",
    "    else:\n",
    "        step = abs(step)\n",
    "    for count in range(start,stop,step):\n",
    "        return_string += str(count) + \" \"\n",
    "        count += step\n",
    "            \n",
    "        \n",
    "    return return_string.strip()"
   ]
  },
  {
   "cell_type": "code",
   "execution_count": 268,
   "metadata": {},
   "outputs": [
    {
     "data": {
      "text/plain": [
       "'1 2 3 4'"
      ]
     },
     "execution_count": 268,
     "metadata": {},
     "output_type": "execute_result"
    }
   ],
   "source": [
    "loop(1,5,0)"
   ]
  },
  {
   "cell_type": "code",
   "execution_count": 270,
   "metadata": {},
   "outputs": [
    {
     "data": {
      "text/plain": [
       "'20 15 10 5'"
      ]
     },
     "execution_count": 270,
     "metadata": {},
     "output_type": "execute_result"
    }
   ],
   "source": [
    "loop(20,0,5)"
   ]
  },
  {
   "cell_type": "code",
   "execution_count": null,
   "metadata": {},
   "outputs": [],
   "source": []
  }
 ],
 "metadata": {
  "kernelspec": {
   "display_name": "Python 3",
   "language": "python",
   "name": "python3"
  }
 },
 "nbformat": 4,
 "nbformat_minor": 2
}
